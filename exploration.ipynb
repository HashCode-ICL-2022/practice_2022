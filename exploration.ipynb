{
 "cells": [
  {
   "cell_type": "code",
   "execution_count": 1,
   "metadata": {},
   "outputs": [],
   "source": [
    "import numpy as np \n",
    "import matplotlib.pyplot as plt \n",
    "import pandas as pd  \n",
    "from tqdm import tqdm \n",
    "import numba \n",
    "import os"
   ]
  },
  {
   "cell_type": "code",
   "execution_count": 36,
   "metadata": {},
   "outputs": [],
   "source": [
    "file_name_a = r\"practice_2022\\data\\a_an_example.in.txt\"\n",
    "file_name_b = r\"practice_2022\\data\\b_basic.in.txt\"\n",
    "file_name_c= r\"practice_2022\\data\\c_coarse.in.txt\"\n",
    "file_name_d = r\"practice_2022\\data\\d_difficult.in.txt\"\n",
    "file_name_e = r\"practice_2022\\data\\e_elaborate.in.txt\""
   ]
  },
  {
   "cell_type": "code",
   "execution_count": 48,
   "metadata": {},
   "outputs": [],
   "source": [
    "def load(file_name):\n",
    "    with open(file_name, 'r') as file:\n",
    "        # Read first line \n",
    "        N = int(file.readline())\n",
    "\n",
    "        print(f\"Loading {N} Customers\")\n",
    "        likes = []\n",
    "        avg_l = []\n",
    "        for i in range(N):\n",
    "            line = file.readline().rstrip().split(\" \")\n",
    "            likes.extend(line[1:])\n",
    "        \n",
    "        dislikes = []\n",
    "        for i in range(N):\n",
    "            line = file.readline().rstrip().split(\" \")\n",
    "            dislikes.extend(line[1:])\n",
    "\n",
    "        return likes, dislikes\n"
   ]
  },
  {
   "cell_type": "code",
   "execution_count": 49,
   "metadata": {},
   "outputs": [],
   "source": [
    "def get_uniques(likes, dislikes):\n",
    "    l, lc = np.unique(np.array(likes).flatten(), return_counts=True)\n",
    "    d, dc = np.unique(np.array(dislikes).flatten(), return_counts=True)\n",
    "\n",
    "    a, ac = np.unique(np.array(likes + dislikes).flatten(), return_counts=True)\n",
    "\n",
    "    print(f\"Unique likes, dislikes: {len(l)}, {len(d)}\")\n",
    "    print(f\"Unique from likes + dislikes: {len(a)}\")\n",
    "\n",
    "    return (l, lc), (d, dc), (a, ac)"
   ]
  },
  {
   "cell_type": "markdown",
   "metadata": {},
   "source": [
    "### Uniques"
   ]
  },
  {
   "cell_type": "code",
   "execution_count": 50,
   "metadata": {},
   "outputs": [
    {
     "name": "stdout",
     "output_type": "stream",
     "text": [
      "Loading 3 Customers\n",
      "Unique likes, dislikes: 3, 4\n",
      "Unique from likes + dislikes: 6\n"
     ]
    },
    {
     "data": {
      "text/plain": [
       "((array(['basil', 'cheese', 'peppers'], dtype='<U7'),\n",
       "  array([1, 1, 1], dtype=int64)),\n",
       " (array(['basil', 'mushrooms', 'pineapple', 'tomatoes'], dtype='<U9'),\n",
       "  array([1, 1, 1, 1], dtype=int64)),\n",
       " (array(['basil', 'cheese', 'mushrooms', 'peppers', 'pineapple', 'tomatoes'],\n",
       "        dtype='<U9'),\n",
       "  array([2, 1, 1, 1, 1, 1], dtype=int64)))"
      ]
     },
     "execution_count": 50,
     "metadata": {},
     "output_type": "execute_result"
    }
   ],
   "source": [
    "la, da = load(file_name_a)\n",
    "ua = get_uniques(la, da)\n",
    "ua"
   ]
  },
  {
   "cell_type": "code",
   "execution_count": 51,
   "metadata": {},
   "outputs": [
    {
     "name": "stdout",
     "output_type": "stream",
     "text": [
      "Loading 5 Customers\n",
      "Unique likes, dislikes: 4, 3\n",
      "Unique from likes + dislikes: 6\n"
     ]
    }
   ],
   "source": [
    "lb, db = load(file_name_b)\n",
    "ua = get_uniques(lb, db)"
   ]
  },
  {
   "cell_type": "code",
   "execution_count": 52,
   "metadata": {},
   "outputs": [
    {
     "name": "stdout",
     "output_type": "stream",
     "text": [
      "Loading 10 Customers\n",
      "Unique likes, dislikes: 9, 10\n",
      "Unique from likes + dislikes: 10\n"
     ]
    }
   ],
   "source": [
    "lc, dc = load(file_name_c)\n",
    "ua = get_uniques(lc, dc)"
   ]
  },
  {
   "cell_type": "code",
   "execution_count": 55,
   "metadata": {},
   "outputs": [
    {
     "name": "stdout",
     "output_type": "stream",
     "text": [
      "Loading 9368 Customers\n",
      "Unique likes, dislikes: 600, 600\n",
      "Unique from likes + dislikes: 600\n"
     ]
    }
   ],
   "source": [
    "ld, dd = load(file_name_d)\n",
    "ua = get_uniques(ld, dd)"
   ]
  },
  {
   "cell_type": "code",
   "execution_count": 54,
   "metadata": {},
   "outputs": [
    {
     "name": "stdout",
     "output_type": "stream",
     "text": [
      "Loading 4986 Customers\n",
      "Unique likes, dislikes: 7833, 7781\n",
      "Unique from likes + dislikes: 10000\n"
     ]
    }
   ],
   "source": [
    "le, de = load(file_name_e)\n",
    "ua = get_uniques(le, de)"
   ]
  }
 ],
 "metadata": {
  "interpreter": {
   "hash": "1f24221a37b7fd7a2d98b7970418fa79d3064bb06109195fa916b36915150595"
  },
  "kernelspec": {
   "display_name": "Python 3.7.9 ('base')",
   "language": "python",
   "name": "python3"
  },
  "language_info": {
   "codemirror_mode": {
    "name": "ipython",
    "version": 3
   },
   "file_extension": ".py",
   "mimetype": "text/x-python",
   "name": "python",
   "nbconvert_exporter": "python",
   "pygments_lexer": "ipython3",
   "version": "3.7.9"
  },
  "orig_nbformat": 4
 },
 "nbformat": 4,
 "nbformat_minor": 2
}
